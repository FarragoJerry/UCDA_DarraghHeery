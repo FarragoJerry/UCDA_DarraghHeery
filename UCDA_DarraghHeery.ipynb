{
 "cells": [
  {
   "cell_type": "markdown",
   "metadata": {},
   "source": [
    "Import Libraries"
   ]
  },
  {
   "cell_type": "code",
   "execution_count": 205,
   "metadata": {},
   "outputs": [],
   "source": [
    "import pandas as pd\n",
    "import seaborn as sns\n",
    "import matplotlib.pyplot as plt\n",
    "from matplotlib.dates import DateFormatter"
   ]
  },
  {
   "cell_type": "markdown",
   "metadata": {},
   "source": [
    "Import and assign dataset to variable"
   ]
  },
  {
   "cell_type": "code",
   "execution_count": 206,
   "metadata": {},
   "outputs": [],
   "source": [
    "aapl = pd.read_csv('AAPL.csv',parse_dates=['Date'], index_col= ['Date'], dayfirst = True)\n",
    "amzn = pd.read_csv('AMZN.csv',parse_dates=['Date'], index_col= ['Date'], dayfirst = True)"
   ]
  },
  {
   "cell_type": "markdown",
   "metadata": {},
   "source": [
    "Preview data and info"
   ]
  },
  {
   "cell_type": "code",
   "execution_count": 207,
   "metadata": {
    "scrolled": false
   },
   "outputs": [
    {
     "data": {
      "text/html": [
       "<div>\n",
       "<style scoped>\n",
       "    .dataframe tbody tr th:only-of-type {\n",
       "        vertical-align: middle;\n",
       "    }\n",
       "\n",
       "    .dataframe tbody tr th {\n",
       "        vertical-align: top;\n",
       "    }\n",
       "\n",
       "    .dataframe thead th {\n",
       "        text-align: right;\n",
       "    }\n",
       "</style>\n",
       "<table border=\"1\" class=\"dataframe\">\n",
       "  <thead>\n",
       "    <tr style=\"text-align: right;\">\n",
       "      <th></th>\n",
       "      <th>Low</th>\n",
       "      <th>Open</th>\n",
       "      <th>Volume</th>\n",
       "      <th>High</th>\n",
       "      <th>Close</th>\n",
       "      <th>Adjusted Close</th>\n",
       "    </tr>\n",
       "    <tr>\n",
       "      <th>Date</th>\n",
       "      <th></th>\n",
       "      <th></th>\n",
       "      <th></th>\n",
       "      <th></th>\n",
       "      <th></th>\n",
       "      <th></th>\n",
       "    </tr>\n",
       "  </thead>\n",
       "  <tbody>\n",
       "    <tr>\n",
       "      <th>1980-12-12</th>\n",
       "      <td>0.128348</td>\n",
       "      <td>0.128348</td>\n",
       "      <td>469033600</td>\n",
       "      <td>0.128906</td>\n",
       "      <td>0.128348</td>\n",
       "      <td>0.100039</td>\n",
       "    </tr>\n",
       "    <tr>\n",
       "      <th>1980-12-15</th>\n",
       "      <td>0.121652</td>\n",
       "      <td>0.122210</td>\n",
       "      <td>175884800</td>\n",
       "      <td>0.122210</td>\n",
       "      <td>0.121652</td>\n",
       "      <td>0.094820</td>\n",
       "    </tr>\n",
       "    <tr>\n",
       "      <th>1980-12-16</th>\n",
       "      <td>0.112723</td>\n",
       "      <td>0.113281</td>\n",
       "      <td>105728000</td>\n",
       "      <td>0.113281</td>\n",
       "      <td>0.112723</td>\n",
       "      <td>0.087861</td>\n",
       "    </tr>\n",
       "    <tr>\n",
       "      <th>1980-12-17</th>\n",
       "      <td>0.115513</td>\n",
       "      <td>0.115513</td>\n",
       "      <td>86441600</td>\n",
       "      <td>0.116071</td>\n",
       "      <td>0.115513</td>\n",
       "      <td>0.090035</td>\n",
       "    </tr>\n",
       "    <tr>\n",
       "      <th>1980-12-18</th>\n",
       "      <td>0.118862</td>\n",
       "      <td>0.118862</td>\n",
       "      <td>73449600</td>\n",
       "      <td>0.119420</td>\n",
       "      <td>0.118862</td>\n",
       "      <td>0.092646</td>\n",
       "    </tr>\n",
       "  </tbody>\n",
       "</table>\n",
       "</div>"
      ],
      "text/plain": [
       "                 Low      Open     Volume      High     Close  Adjusted Close\n",
       "Date                                                                         \n",
       "1980-12-12  0.128348  0.128348  469033600  0.128906  0.128348        0.100039\n",
       "1980-12-15  0.121652  0.122210  175884800  0.122210  0.121652        0.094820\n",
       "1980-12-16  0.112723  0.113281  105728000  0.113281  0.112723        0.087861\n",
       "1980-12-17  0.115513  0.115513   86441600  0.116071  0.115513        0.090035\n",
       "1980-12-18  0.118862  0.118862   73449600  0.119420  0.118862        0.092646"
      ]
     },
     "execution_count": 207,
     "metadata": {},
     "output_type": "execute_result"
    }
   ],
   "source": [
    "aapl.head()"
   ]
  },
  {
   "cell_type": "code",
   "execution_count": 208,
   "metadata": {},
   "outputs": [
    {
     "name": "stdout",
     "output_type": "stream",
     "text": [
      "<class 'pandas.core.frame.DataFrame'>\n",
      "DatetimeIndex: 10502 entries, 1980-12-12 to 2022-08-08\n",
      "Data columns (total 6 columns):\n",
      " #   Column          Non-Null Count  Dtype  \n",
      "---  ------          --------------  -----  \n",
      " 0   Low             10502 non-null  float64\n",
      " 1   Open            10502 non-null  float64\n",
      " 2   Volume          10502 non-null  int64  \n",
      " 3   High            10502 non-null  float64\n",
      " 4   Close           10502 non-null  float64\n",
      " 5   Adjusted Close  10502 non-null  float64\n",
      "dtypes: float64(5), int64(1)\n",
      "memory usage: 574.3 KB\n"
     ]
    }
   ],
   "source": [
    "aapl.info()"
   ]
  },
  {
   "cell_type": "markdown",
   "metadata": {},
   "source": [
    "Assign index and remove column"
   ]
  },
  {
   "cell_type": "code",
   "execution_count": 209,
   "metadata": {},
   "outputs": [
    {
     "data": {
      "text/html": [
       "<div>\n",
       "<style scoped>\n",
       "    .dataframe tbody tr th:only-of-type {\n",
       "        vertical-align: middle;\n",
       "    }\n",
       "\n",
       "    .dataframe tbody tr th {\n",
       "        vertical-align: top;\n",
       "    }\n",
       "\n",
       "    .dataframe thead th {\n",
       "        text-align: right;\n",
       "    }\n",
       "</style>\n",
       "<table border=\"1\" class=\"dataframe\">\n",
       "  <thead>\n",
       "    <tr style=\"text-align: right;\">\n",
       "      <th></th>\n",
       "      <th>Low</th>\n",
       "      <th>Open</th>\n",
       "      <th>Volume</th>\n",
       "      <th>High</th>\n",
       "      <th>Close</th>\n",
       "      <th>Adjusted Close</th>\n",
       "    </tr>\n",
       "    <tr>\n",
       "      <th>Date</th>\n",
       "      <th></th>\n",
       "      <th></th>\n",
       "      <th></th>\n",
       "      <th></th>\n",
       "      <th></th>\n",
       "      <th></th>\n",
       "    </tr>\n",
       "  </thead>\n",
       "  <tbody>\n",
       "    <tr>\n",
       "      <th>1980-12-12</th>\n",
       "      <td>0.128348</td>\n",
       "      <td>0.128348</td>\n",
       "      <td>469033600</td>\n",
       "      <td>0.128906</td>\n",
       "      <td>0.128348</td>\n",
       "      <td>0.100039</td>\n",
       "    </tr>\n",
       "    <tr>\n",
       "      <th>1980-12-15</th>\n",
       "      <td>0.121652</td>\n",
       "      <td>0.122210</td>\n",
       "      <td>175884800</td>\n",
       "      <td>0.122210</td>\n",
       "      <td>0.121652</td>\n",
       "      <td>0.094820</td>\n",
       "    </tr>\n",
       "    <tr>\n",
       "      <th>1980-12-16</th>\n",
       "      <td>0.112723</td>\n",
       "      <td>0.113281</td>\n",
       "      <td>105728000</td>\n",
       "      <td>0.113281</td>\n",
       "      <td>0.112723</td>\n",
       "      <td>0.087861</td>\n",
       "    </tr>\n",
       "    <tr>\n",
       "      <th>1980-12-17</th>\n",
       "      <td>0.115513</td>\n",
       "      <td>0.115513</td>\n",
       "      <td>86441600</td>\n",
       "      <td>0.116071</td>\n",
       "      <td>0.115513</td>\n",
       "      <td>0.090035</td>\n",
       "    </tr>\n",
       "    <tr>\n",
       "      <th>1980-12-18</th>\n",
       "      <td>0.118862</td>\n",
       "      <td>0.118862</td>\n",
       "      <td>73449600</td>\n",
       "      <td>0.119420</td>\n",
       "      <td>0.118862</td>\n",
       "      <td>0.092646</td>\n",
       "    </tr>\n",
       "  </tbody>\n",
       "</table>\n",
       "</div>"
      ],
      "text/plain": [
       "                 Low      Open     Volume      High     Close  Adjusted Close\n",
       "Date                                                                         \n",
       "1980-12-12  0.128348  0.128348  469033600  0.128906  0.128348        0.100039\n",
       "1980-12-15  0.121652  0.122210  175884800  0.122210  0.121652        0.094820\n",
       "1980-12-16  0.112723  0.113281  105728000  0.113281  0.112723        0.087861\n",
       "1980-12-17  0.115513  0.115513   86441600  0.116071  0.115513        0.090035\n",
       "1980-12-18  0.118862  0.118862   73449600  0.119420  0.118862        0.092646"
      ]
     },
     "execution_count": 209,
     "metadata": {},
     "output_type": "execute_result"
    }
   ],
   "source": [
    "aapl.head()"
   ]
  },
  {
   "cell_type": "code",
   "execution_count": 210,
   "metadata": {},
   "outputs": [
    {
     "data": {
      "text/html": [
       "<div>\n",
       "<style scoped>\n",
       "    .dataframe tbody tr th:only-of-type {\n",
       "        vertical-align: middle;\n",
       "    }\n",
       "\n",
       "    .dataframe tbody tr th {\n",
       "        vertical-align: top;\n",
       "    }\n",
       "\n",
       "    .dataframe thead th {\n",
       "        text-align: right;\n",
       "    }\n",
       "</style>\n",
       "<table border=\"1\" class=\"dataframe\">\n",
       "  <thead>\n",
       "    <tr style=\"text-align: right;\">\n",
       "      <th></th>\n",
       "      <th>Low</th>\n",
       "      <th>Open</th>\n",
       "      <th>High</th>\n",
       "      <th>Close</th>\n",
       "      <th>Adjusted Close</th>\n",
       "    </tr>\n",
       "    <tr>\n",
       "      <th>Date</th>\n",
       "      <th></th>\n",
       "      <th></th>\n",
       "      <th></th>\n",
       "      <th></th>\n",
       "      <th></th>\n",
       "    </tr>\n",
       "  </thead>\n",
       "  <tbody>\n",
       "    <tr>\n",
       "      <th>1980-12-12</th>\n",
       "      <td>0.128348</td>\n",
       "      <td>0.128348</td>\n",
       "      <td>0.128906</td>\n",
       "      <td>0.128348</td>\n",
       "      <td>0.100039</td>\n",
       "    </tr>\n",
       "    <tr>\n",
       "      <th>1980-12-15</th>\n",
       "      <td>0.121652</td>\n",
       "      <td>0.122210</td>\n",
       "      <td>0.122210</td>\n",
       "      <td>0.121652</td>\n",
       "      <td>0.094820</td>\n",
       "    </tr>\n",
       "    <tr>\n",
       "      <th>1980-12-16</th>\n",
       "      <td>0.112723</td>\n",
       "      <td>0.113281</td>\n",
       "      <td>0.113281</td>\n",
       "      <td>0.112723</td>\n",
       "      <td>0.087861</td>\n",
       "    </tr>\n",
       "    <tr>\n",
       "      <th>1980-12-17</th>\n",
       "      <td>0.115513</td>\n",
       "      <td>0.115513</td>\n",
       "      <td>0.116071</td>\n",
       "      <td>0.115513</td>\n",
       "      <td>0.090035</td>\n",
       "    </tr>\n",
       "    <tr>\n",
       "      <th>1980-12-18</th>\n",
       "      <td>0.118862</td>\n",
       "      <td>0.118862</td>\n",
       "      <td>0.119420</td>\n",
       "      <td>0.118862</td>\n",
       "      <td>0.092646</td>\n",
       "    </tr>\n",
       "    <tr>\n",
       "      <th>...</th>\n",
       "      <td>...</td>\n",
       "      <td>...</td>\n",
       "      <td>...</td>\n",
       "      <td>...</td>\n",
       "      <td>...</td>\n",
       "    </tr>\n",
       "    <tr>\n",
       "      <th>2022-08-02</th>\n",
       "      <td>159.630005</td>\n",
       "      <td>160.100006</td>\n",
       "      <td>162.410004</td>\n",
       "      <td>160.009995</td>\n",
       "      <td>159.788040</td>\n",
       "    </tr>\n",
       "    <tr>\n",
       "      <th>2022-08-03</th>\n",
       "      <td>160.750000</td>\n",
       "      <td>160.839996</td>\n",
       "      <td>166.589996</td>\n",
       "      <td>166.130005</td>\n",
       "      <td>165.899567</td>\n",
       "    </tr>\n",
       "    <tr>\n",
       "      <th>2022-08-04</th>\n",
       "      <td>164.429993</td>\n",
       "      <td>166.009995</td>\n",
       "      <td>167.190002</td>\n",
       "      <td>165.809998</td>\n",
       "      <td>165.580002</td>\n",
       "    </tr>\n",
       "    <tr>\n",
       "      <th>2022-08-05</th>\n",
       "      <td>163.000000</td>\n",
       "      <td>163.210007</td>\n",
       "      <td>165.850006</td>\n",
       "      <td>165.350006</td>\n",
       "      <td>165.350006</td>\n",
       "    </tr>\n",
       "    <tr>\n",
       "      <th>2022-08-08</th>\n",
       "      <td>164.199997</td>\n",
       "      <td>166.369995</td>\n",
       "      <td>167.809998</td>\n",
       "      <td>164.869995</td>\n",
       "      <td>164.869995</td>\n",
       "    </tr>\n",
       "  </tbody>\n",
       "</table>\n",
       "<p>10502 rows × 5 columns</p>\n",
       "</div>"
      ],
      "text/plain": [
       "                   Low        Open        High       Close  Adjusted Close\n",
       "Date                                                                      \n",
       "1980-12-12    0.128348    0.128348    0.128906    0.128348        0.100039\n",
       "1980-12-15    0.121652    0.122210    0.122210    0.121652        0.094820\n",
       "1980-12-16    0.112723    0.113281    0.113281    0.112723        0.087861\n",
       "1980-12-17    0.115513    0.115513    0.116071    0.115513        0.090035\n",
       "1980-12-18    0.118862    0.118862    0.119420    0.118862        0.092646\n",
       "...                ...         ...         ...         ...             ...\n",
       "2022-08-02  159.630005  160.100006  162.410004  160.009995      159.788040\n",
       "2022-08-03  160.750000  160.839996  166.589996  166.130005      165.899567\n",
       "2022-08-04  164.429993  166.009995  167.190002  165.809998      165.580002\n",
       "2022-08-05  163.000000  163.210007  165.850006  165.350006      165.350006\n",
       "2022-08-08  164.199997  166.369995  167.809998  164.869995      164.869995\n",
       "\n",
       "[10502 rows x 5 columns]"
      ]
     },
     "execution_count": 210,
     "metadata": {},
     "output_type": "execute_result"
    }
   ],
   "source": [
    "aapl.loc[:, aapl.columns!='Volume']"
   ]
  },
  {
   "cell_type": "markdown",
   "metadata": {},
   "source": [
    "Checking if data needs to be cleaned"
   ]
  },
  {
   "cell_type": "code",
   "execution_count": 211,
   "metadata": {},
   "outputs": [
    {
     "data": {
      "text/plain": [
       "0"
      ]
     },
     "execution_count": 211,
     "metadata": {},
     "output_type": "execute_result"
    }
   ],
   "source": [
    "aapl.isnull().any(axis = 1).sum() #No missing values"
   ]
  },
  {
   "cell_type": "code",
   "execution_count": 212,
   "metadata": {},
   "outputs": [
    {
     "name": "stdout",
     "output_type": "stream",
     "text": [
      "<bound method Series.sum of Date\n",
      "1980-12-12    False\n",
      "1980-12-15    False\n",
      "1980-12-16    False\n",
      "1980-12-17    False\n",
      "1980-12-18    False\n",
      "              ...  \n",
      "2022-08-02    False\n",
      "2022-08-03    False\n",
      "2022-08-04    False\n",
      "2022-08-05    False\n",
      "2022-08-08    False\n",
      "Length: 10502, dtype: bool>\n"
     ]
    }
   ],
   "source": [
    "print(aapl.duplicated().sum) #No duplicate rows"
   ]
  },
  {
   "cell_type": "markdown",
   "metadata": {},
   "source": [
    "If the open price goes up, the High and Low price for the day will likely go up too. Volume has little impact or correlation on a large timeline"
   ]
  },
  {
   "cell_type": "code",
   "execution_count": 213,
   "metadata": {},
   "outputs": [
    {
     "name": "stdout",
     "output_type": "stream",
     "text": [
      "                     Low      Open    Volume      High     Close  \\\n",
      "Low             1.000000  0.999926 -0.201644  0.999911  0.999929   \n",
      "Open            0.999926  1.000000 -0.200733  0.999943  0.999850   \n",
      "Volume         -0.201644 -0.200733  1.000000 -0.200172 -0.200922   \n",
      "High            0.999911  0.999943 -0.200172  1.000000  0.999926   \n",
      "Close           0.999929  0.999850 -0.200922  0.999926  1.000000   \n",
      "Adjusted Close  0.999587  0.999525 -0.203676  0.999630  0.999684   \n",
      "\n",
      "                Adjusted Close  \n",
      "Low                   0.999587  \n",
      "Open                  0.999525  \n",
      "Volume               -0.203676  \n",
      "High                  0.999630  \n",
      "Close                 0.999684  \n",
      "Adjusted Close        1.000000  \n"
     ]
    }
   ],
   "source": [
    "print(aapl.corr()) "
   ]
  },
  {
   "cell_type": "code",
   "execution_count": 214,
   "metadata": {},
   "outputs": [
    {
     "name": "stdout",
     "output_type": "stream",
     "text": [
      "Date\n",
      "1980-12-12         NaN\n",
      "1980-12-15         NaN\n",
      "1980-12-16         NaN\n",
      "1980-12-17         NaN\n",
      "1980-12-18         NaN\n",
      "                ...   \n",
      "2022-08-02   -0.161047\n",
      "2022-08-03   -0.067115\n",
      "2022-08-04   -0.167844\n",
      "2022-08-05   -0.238672\n",
      "2022-08-08   -0.246303\n",
      "Length: 10502, dtype: float64\n"
     ]
    }
   ],
   "source": [
    "print(aapl['Low'].rolling(30).corr(aapl['Volume']))"
   ]
  },
  {
   "cell_type": "markdown",
   "metadata": {},
   "source": [
    "Plot date to daily high"
   ]
  },
  {
   "cell_type": "code",
   "execution_count": 215,
   "metadata": {},
   "outputs": [
    {
     "data": {
      "image/png": "[encoded data removed]",
      "text/plain": [
       "<Figure size 720x360 with 1 Axes>"
      ]
     },
     "metadata": {
      "needs_background": "light"
     },
     "output_type": "display_data"
    }
   ],
   "source": [
    "fig, ax = plt.subplots(figsize=(10, 5))\n",
    "\n",
    "# Add x-axis and y-axis\n",
    "ax.plot(aapl.index.values, aapl['High'], color = 'red')\n",
    "\n",
    "# Set title and labels for axes\n",
    "ax.set(xlabel=\"Date\", ylabel=\"Price (USD)\", title=\"Apple All Time Performance\")\n",
    "\n",
    "date_form = DateFormatter(\"%d-%m-%y\")\n",
    "ax.xaxis.set_major_formatter(date_form)\n",
    "\n",
    "plt.show()"
   ]
  },
  {
   "cell_type": "markdown",
   "metadata": {},
   "source": [
    "Assign a 1 year period to a new variables"
   ]
  },
  {
   "cell_type": "code",
   "execution_count": 217,
   "metadata": {},
   "outputs": [],
   "source": [
    "aapl_new = aapl.iloc[-365:-1]\n",
    "amzn_new = amzn.iloc[-365:-1]"
   ]
  },
  {
   "cell_type": "markdown",
   "metadata": {},
   "source": [
    "Apple perfomance for 1 year"
   ]
  },
  {
   "cell_type": "code",
   "execution_count": 216,
   "metadata": {
    "scrolled": false
   },
   "outputs": [
    {
     "data": {
      "image/png": "[encoded data removed]",
      "text/plain": [
       "<Figure size 720x360 with 1 Axes>"
      ]
     },
     "metadata": {
      "needs_background": "light"
     },
     "output_type": "display_data"
    }
   ],
   "source": [
    "fig, ax = plt.subplots(figsize=(10, 5))\n",
    "\n",
    "# Add x-axis and y-axis\n",
    "ax.plot(aapl_new.index.values, aapl_new['High'], color = 'red')\n",
    "\n",
    "# Set title and labels for axes\n",
    "ax.set(xlabel=\"Date\", ylabel=\"Price (USD)\", title=\"Apple 1 Performance\")\n",
    "\n",
    "date_form = DateFormatter(\"%d-%m-%y\")\n",
    "ax.xaxis.set_major_formatter(date_form)\n",
    "\n",
    "plt.show()"
   ]
  },
  {
   "cell_type": "markdown",
   "metadata": {},
   "source": [
    "Plot the 2 variables against each other on a line graph"
   ]
  },
  {
   "cell_type": "code",
   "execution_count": 218,
   "metadata": {},
   "outputs": [
    {
     "data": {
      "image/png": "[encoded data removed]",
      "text/plain": [
       "<Figure size 720x360 with 1 Axes>"
      ]
     },
     "metadata": {
      "needs_background": "light"
     },
     "output_type": "display_data"
    }
   ],
   "source": [
    "fig, ax = plt.subplots(figsize=(10, 5))\n",
    "\n",
    "# Add x-axis and y-axis\n",
    "ax.plot(aapl_new.index.values, aapl_new['High'], color = 'red')\n",
    "\n",
    "ax.plot(amzn_new.index.values, amzn_new['High'], color = 'blue')\n",
    "\n",
    "# Set title and labels for axes\n",
    "ax.set(xlabel=\"Date\", ylabel=\"Price (USD)\", title=\"AAPL v AMZN\")\n",
    "\n",
    "date_form = DateFormatter(\"%d-%m-%y\")\n",
    "ax.xaxis.set_major_formatter(date_form)\n",
    "\n",
    "plt.show()"
   ]
  },
  {
   "cell_type": "markdown",
   "metadata": {},
   "source": [
    "Change date range"
   ]
  },
  {
   "cell_type": "code",
   "execution_count": 224,
   "metadata": {},
   "outputs": [],
   "source": [
    "aapl_new = aapl.iloc[-730:-365]\n",
    "amzn_new = amzn.iloc[-730:-365]"
   ]
  },
  {
   "cell_type": "code",
   "execution_count": 225,
   "metadata": {},
   "outputs": [
    {
     "data": {
      "image/png": "[encoded data removed]",
      "text/plain": [
       "<Figure size 720x360 with 1 Axes>"
      ]
     },
     "metadata": {
      "needs_background": "light"
     },
     "output_type": "display_data"
    }
   ],
   "source": [
    "fig, ax = plt.subplots(figsize=(10, 5))\n",
    "\n",
    "# Add x-axis and y-axis\n",
    "ax.plot(aapl_new.index.values, aapl_new['High'], color = 'red')\n",
    "\n",
    "ax.plot(amzn_new.index.values, amzn_new['High'], color = 'blue')\n",
    "\n",
    "# Set title and labels for axes\n",
    "ax.set(xlabel=\"Date\", ylabel=\"Price (USD)\", title=\"AAPL v AMZN\")\n",
    "\n",
    "date_form = DateFormatter(\"%d-%m-%y\")\n",
    "ax.xaxis.set_major_formatter(date_form)\n",
    "\n",
    "plt.show()"
   ]
  },
  {
   "cell_type": "code",
   "execution_count": null,
   "metadata": {},
   "outputs": [],
   "source": []
  }
 ],
 "metadata": {
  "kernelspec": {
   "display_name": "Python 3",
   "language": "python",
   "name": "python3"
  },
  "language_info": {
   "codemirror_mode": {
    "name": "ipython",
    "version": 3
   },
   "file_extension": ".py",
   "mimetype": "text/x-python",
   "name": "python",
   "nbconvert_exporter": "python",
   "pygments_lexer": "ipython3",
   "version": "3.8.3"
  }
 },
 "nbformat": 4,
 "nbformat_minor": 4
}
