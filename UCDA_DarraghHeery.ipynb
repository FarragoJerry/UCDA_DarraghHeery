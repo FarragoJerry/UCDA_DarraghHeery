{
 "cells": [
  {
   "cell_type": "markdown",
   "metadata": {},
   "source": [
    "Import Libraries"
   ]
  },
  {
   "cell_type": "code",
   "execution_count": 66,
   "metadata": {},
   "outputs": [],
   "source": [
    "import pandas as pd\n",
    "import seaborn as sns\n",
    "import matplotlib.pyplot as plt"
   ]
  },
  {
   "cell_type": "markdown",
   "metadata": {},
   "source": [
    "Import and assign dataset to variable"
   ]
  },
  {
   "cell_type": "code",
   "execution_count": 39,
   "metadata": {},
   "outputs": [],
   "source": [
    "aapl = pd.read_csv('AAPL.csv')"
   ]
  },
  {
   "cell_type": "markdown",
   "metadata": {},
   "source": [
    "Preview data and info"
   ]
  },
  {
   "cell_type": "code",
   "execution_count": 40,
   "metadata": {
    "scrolled": false
   },
   "outputs": [
    {
     "data": {
      "text/html": [
       "<div>\n",
       "<style scoped>\n",
       "    .dataframe tbody tr th:only-of-type {\n",
       "        vertical-align: middle;\n",
       "    }\n",
       "\n",
       "    .dataframe tbody tr th {\n",
       "        vertical-align: top;\n",
       "    }\n",
       "\n",
       "    .dataframe thead th {\n",
       "        text-align: right;\n",
       "    }\n",
       "</style>\n",
       "<table border=\"1\" class=\"dataframe\">\n",
       "  <thead>\n",
       "    <tr style=\"text-align: right;\">\n",
       "      <th></th>\n",
       "      <th>Date</th>\n",
       "      <th>Low</th>\n",
       "      <th>Open</th>\n",
       "      <th>Volume</th>\n",
       "      <th>High</th>\n",
       "      <th>Close</th>\n",
       "      <th>Adjusted Close</th>\n",
       "    </tr>\n",
       "  </thead>\n",
       "  <tbody>\n",
       "    <tr>\n",
       "      <th>0</th>\n",
       "      <td>12-12-1980</td>\n",
       "      <td>0.128348</td>\n",
       "      <td>0.128348</td>\n",
       "      <td>469033600</td>\n",
       "      <td>0.128906</td>\n",
       "      <td>0.128348</td>\n",
       "      <td>0.100039</td>\n",
       "    </tr>\n",
       "    <tr>\n",
       "      <th>1</th>\n",
       "      <td>15-12-1980</td>\n",
       "      <td>0.121652</td>\n",
       "      <td>0.122210</td>\n",
       "      <td>175884800</td>\n",
       "      <td>0.122210</td>\n",
       "      <td>0.121652</td>\n",
       "      <td>0.094820</td>\n",
       "    </tr>\n",
       "    <tr>\n",
       "      <th>2</th>\n",
       "      <td>16-12-1980</td>\n",
       "      <td>0.112723</td>\n",
       "      <td>0.113281</td>\n",
       "      <td>105728000</td>\n",
       "      <td>0.113281</td>\n",
       "      <td>0.112723</td>\n",
       "      <td>0.087861</td>\n",
       "    </tr>\n",
       "    <tr>\n",
       "      <th>3</th>\n",
       "      <td>17-12-1980</td>\n",
       "      <td>0.115513</td>\n",
       "      <td>0.115513</td>\n",
       "      <td>86441600</td>\n",
       "      <td>0.116071</td>\n",
       "      <td>0.115513</td>\n",
       "      <td>0.090035</td>\n",
       "    </tr>\n",
       "    <tr>\n",
       "      <th>4</th>\n",
       "      <td>18-12-1980</td>\n",
       "      <td>0.118862</td>\n",
       "      <td>0.118862</td>\n",
       "      <td>73449600</td>\n",
       "      <td>0.119420</td>\n",
       "      <td>0.118862</td>\n",
       "      <td>0.092646</td>\n",
       "    </tr>\n",
       "  </tbody>\n",
       "</table>\n",
       "</div>"
      ],
      "text/plain": [
       "         Date       Low      Open     Volume      High     Close  \\\n",
       "0  12-12-1980  0.128348  0.128348  469033600  0.128906  0.128348   \n",
       "1  15-12-1980  0.121652  0.122210  175884800  0.122210  0.121652   \n",
       "2  16-12-1980  0.112723  0.113281  105728000  0.113281  0.112723   \n",
       "3  17-12-1980  0.115513  0.115513   86441600  0.116071  0.115513   \n",
       "4  18-12-1980  0.118862  0.118862   73449600  0.119420  0.118862   \n",
       "\n",
       "   Adjusted Close  \n",
       "0        0.100039  \n",
       "1        0.094820  \n",
       "2        0.087861  \n",
       "3        0.090035  \n",
       "4        0.092646  "
      ]
     },
     "execution_count": 40,
     "metadata": {},
     "output_type": "execute_result"
    }
   ],
   "source": [
    "aapl.head()"
   ]
  },
  {
   "cell_type": "code",
   "execution_count": 41,
   "metadata": {},
   "outputs": [
    {
     "name": "stdout",
     "output_type": "stream",
     "text": [
      "<class 'pandas.core.frame.DataFrame'>\n",
      "RangeIndex: 10502 entries, 0 to 10501\n",
      "Data columns (total 7 columns):\n",
      " #   Column          Non-Null Count  Dtype  \n",
      "---  ------          --------------  -----  \n",
      " 0   Date            10502 non-null  object \n",
      " 1   Low             10502 non-null  float64\n",
      " 2   Open            10502 non-null  float64\n",
      " 3   Volume          10502 non-null  int64  \n",
      " 4   High            10502 non-null  float64\n",
      " 5   Close           10502 non-null  float64\n",
      " 6   Adjusted Close  10502 non-null  float64\n",
      "dtypes: float64(5), int64(1), object(1)\n",
      "memory usage: 574.5+ KB\n"
     ]
    }
   ],
   "source": [
    "aapl.info()"
   ]
  },
  {
   "cell_type": "markdown",
   "metadata": {},
   "source": [
    "Assign index and remove column"
   ]
  },
  {
   "cell_type": "code",
   "execution_count": 54,
   "metadata": {},
   "outputs": [
    {
     "data": {
      "text/html": [
       "<div>\n",
       "<style scoped>\n",
       "    .dataframe tbody tr th:only-of-type {\n",
       "        vertical-align: middle;\n",
       "    }\n",
       "\n",
       "    .dataframe tbody tr th {\n",
       "        vertical-align: top;\n",
       "    }\n",
       "\n",
       "    .dataframe thead th {\n",
       "        text-align: right;\n",
       "    }\n",
       "</style>\n",
       "<table border=\"1\" class=\"dataframe\">\n",
       "  <thead>\n",
       "    <tr style=\"text-align: right;\">\n",
       "      <th></th>\n",
       "      <th>Low</th>\n",
       "      <th>Open</th>\n",
       "      <th>Volume</th>\n",
       "      <th>High</th>\n",
       "      <th>Close</th>\n",
       "      <th>Adjusted Close</th>\n",
       "    </tr>\n",
       "    <tr>\n",
       "      <th>Date</th>\n",
       "      <th></th>\n",
       "      <th></th>\n",
       "      <th></th>\n",
       "      <th></th>\n",
       "      <th></th>\n",
       "      <th></th>\n",
       "    </tr>\n",
       "  </thead>\n",
       "  <tbody>\n",
       "    <tr>\n",
       "      <th>12-12-1980</th>\n",
       "      <td>0.128348</td>\n",
       "      <td>0.128348</td>\n",
       "      <td>469033600</td>\n",
       "      <td>0.128906</td>\n",
       "      <td>0.128348</td>\n",
       "      <td>0.100039</td>\n",
       "    </tr>\n",
       "    <tr>\n",
       "      <th>15-12-1980</th>\n",
       "      <td>0.121652</td>\n",
       "      <td>0.122210</td>\n",
       "      <td>175884800</td>\n",
       "      <td>0.122210</td>\n",
       "      <td>0.121652</td>\n",
       "      <td>0.094820</td>\n",
       "    </tr>\n",
       "    <tr>\n",
       "      <th>16-12-1980</th>\n",
       "      <td>0.112723</td>\n",
       "      <td>0.113281</td>\n",
       "      <td>105728000</td>\n",
       "      <td>0.113281</td>\n",
       "      <td>0.112723</td>\n",
       "      <td>0.087861</td>\n",
       "    </tr>\n",
       "    <tr>\n",
       "      <th>17-12-1980</th>\n",
       "      <td>0.115513</td>\n",
       "      <td>0.115513</td>\n",
       "      <td>86441600</td>\n",
       "      <td>0.116071</td>\n",
       "      <td>0.115513</td>\n",
       "      <td>0.090035</td>\n",
       "    </tr>\n",
       "    <tr>\n",
       "      <th>18-12-1980</th>\n",
       "      <td>0.118862</td>\n",
       "      <td>0.118862</td>\n",
       "      <td>73449600</td>\n",
       "      <td>0.119420</td>\n",
       "      <td>0.118862</td>\n",
       "      <td>0.092646</td>\n",
       "    </tr>\n",
       "    <tr>\n",
       "      <th>19-12-1980</th>\n",
       "      <td>0.126116</td>\n",
       "      <td>0.126116</td>\n",
       "      <td>48630400</td>\n",
       "      <td>0.126674</td>\n",
       "      <td>0.126116</td>\n",
       "      <td>0.098300</td>\n",
       "    </tr>\n",
       "    <tr>\n",
       "      <th>22-12-1980</th>\n",
       "      <td>0.132254</td>\n",
       "      <td>0.132254</td>\n",
       "      <td>37363200</td>\n",
       "      <td>0.132813</td>\n",
       "      <td>0.132254</td>\n",
       "      <td>0.103084</td>\n",
       "    </tr>\n",
       "    <tr>\n",
       "      <th>23-12-1980</th>\n",
       "      <td>0.137835</td>\n",
       "      <td>0.137835</td>\n",
       "      <td>46950400</td>\n",
       "      <td>0.138393</td>\n",
       "      <td>0.137835</td>\n",
       "      <td>0.107434</td>\n",
       "    </tr>\n",
       "    <tr>\n",
       "      <th>24-12-1980</th>\n",
       "      <td>0.145089</td>\n",
       "      <td>0.145089</td>\n",
       "      <td>48003200</td>\n",
       "      <td>0.145647</td>\n",
       "      <td>0.145089</td>\n",
       "      <td>0.113088</td>\n",
       "    </tr>\n",
       "    <tr>\n",
       "      <th>26-12-1980</th>\n",
       "      <td>0.158482</td>\n",
       "      <td>0.158482</td>\n",
       "      <td>55574400</td>\n",
       "      <td>0.159040</td>\n",
       "      <td>0.158482</td>\n",
       "      <td>0.123527</td>\n",
       "    </tr>\n",
       "  </tbody>\n",
       "</table>\n",
       "</div>"
      ],
      "text/plain": [
       "                 Low      Open     Volume      High     Close  Adjusted Close\n",
       "Date                                                                         \n",
       "12-12-1980  0.128348  0.128348  469033600  0.128906  0.128348        0.100039\n",
       "15-12-1980  0.121652  0.122210  175884800  0.122210  0.121652        0.094820\n",
       "16-12-1980  0.112723  0.113281  105728000  0.113281  0.112723        0.087861\n",
       "17-12-1980  0.115513  0.115513   86441600  0.116071  0.115513        0.090035\n",
       "18-12-1980  0.118862  0.118862   73449600  0.119420  0.118862        0.092646\n",
       "19-12-1980  0.126116  0.126116   48630400  0.126674  0.126116        0.098300\n",
       "22-12-1980  0.132254  0.132254   37363200  0.132813  0.132254        0.103084\n",
       "23-12-1980  0.137835  0.137835   46950400  0.138393  0.137835        0.107434\n",
       "24-12-1980  0.145089  0.145089   48003200  0.145647  0.145089        0.113088\n",
       "26-12-1980  0.158482  0.158482   55574400  0.159040  0.158482        0.123527"
      ]
     },
     "execution_count": 54,
     "metadata": {},
     "output_type": "execute_result"
    }
   ],
   "source": [
    "aapl.set_index('Date').head(10)"
   ]
  },
  {
   "cell_type": "code",
   "execution_count": 43,
   "metadata": {},
   "outputs": [
    {
     "data": {
      "text/html": [
       "<div>\n",
       "<style scoped>\n",
       "    .dataframe tbody tr th:only-of-type {\n",
       "        vertical-align: middle;\n",
       "    }\n",
       "\n",
       "    .dataframe tbody tr th {\n",
       "        vertical-align: top;\n",
       "    }\n",
       "\n",
       "    .dataframe thead th {\n",
       "        text-align: right;\n",
       "    }\n",
       "</style>\n",
       "<table border=\"1\" class=\"dataframe\">\n",
       "  <thead>\n",
       "    <tr style=\"text-align: right;\">\n",
       "      <th></th>\n",
       "      <th>Low</th>\n",
       "      <th>Open</th>\n",
       "      <th>High</th>\n",
       "      <th>Close</th>\n",
       "      <th>Adjusted Close</th>\n",
       "    </tr>\n",
       "    <tr>\n",
       "      <th>Date</th>\n",
       "      <th></th>\n",
       "      <th></th>\n",
       "      <th></th>\n",
       "      <th></th>\n",
       "      <th></th>\n",
       "    </tr>\n",
       "  </thead>\n",
       "  <tbody>\n",
       "    <tr>\n",
       "      <th>12-12-1980</th>\n",
       "      <td>0.128348</td>\n",
       "      <td>0.128348</td>\n",
       "      <td>0.128906</td>\n",
       "      <td>0.128348</td>\n",
       "      <td>0.100039</td>\n",
       "    </tr>\n",
       "    <tr>\n",
       "      <th>15-12-1980</th>\n",
       "      <td>0.121652</td>\n",
       "      <td>0.122210</td>\n",
       "      <td>0.122210</td>\n",
       "      <td>0.121652</td>\n",
       "      <td>0.094820</td>\n",
       "    </tr>\n",
       "    <tr>\n",
       "      <th>16-12-1980</th>\n",
       "      <td>0.112723</td>\n",
       "      <td>0.113281</td>\n",
       "      <td>0.113281</td>\n",
       "      <td>0.112723</td>\n",
       "      <td>0.087861</td>\n",
       "    </tr>\n",
       "    <tr>\n",
       "      <th>17-12-1980</th>\n",
       "      <td>0.115513</td>\n",
       "      <td>0.115513</td>\n",
       "      <td>0.116071</td>\n",
       "      <td>0.115513</td>\n",
       "      <td>0.090035</td>\n",
       "    </tr>\n",
       "    <tr>\n",
       "      <th>18-12-1980</th>\n",
       "      <td>0.118862</td>\n",
       "      <td>0.118862</td>\n",
       "      <td>0.119420</td>\n",
       "      <td>0.118862</td>\n",
       "      <td>0.092646</td>\n",
       "    </tr>\n",
       "    <tr>\n",
       "      <th>...</th>\n",
       "      <td>...</td>\n",
       "      <td>...</td>\n",
       "      <td>...</td>\n",
       "      <td>...</td>\n",
       "      <td>...</td>\n",
       "    </tr>\n",
       "    <tr>\n",
       "      <th>02-08-2022</th>\n",
       "      <td>159.630005</td>\n",
       "      <td>160.100006</td>\n",
       "      <td>162.410004</td>\n",
       "      <td>160.009995</td>\n",
       "      <td>159.788040</td>\n",
       "    </tr>\n",
       "    <tr>\n",
       "      <th>03-08-2022</th>\n",
       "      <td>160.750000</td>\n",
       "      <td>160.839996</td>\n",
       "      <td>166.589996</td>\n",
       "      <td>166.130005</td>\n",
       "      <td>165.899567</td>\n",
       "    </tr>\n",
       "    <tr>\n",
       "      <th>04-08-2022</th>\n",
       "      <td>164.429993</td>\n",
       "      <td>166.009995</td>\n",
       "      <td>167.190002</td>\n",
       "      <td>165.809998</td>\n",
       "      <td>165.580002</td>\n",
       "    </tr>\n",
       "    <tr>\n",
       "      <th>05-08-2022</th>\n",
       "      <td>163.000000</td>\n",
       "      <td>163.210007</td>\n",
       "      <td>165.850006</td>\n",
       "      <td>165.350006</td>\n",
       "      <td>165.350006</td>\n",
       "    </tr>\n",
       "    <tr>\n",
       "      <th>08-08-2022</th>\n",
       "      <td>164.199997</td>\n",
       "      <td>166.369995</td>\n",
       "      <td>167.809998</td>\n",
       "      <td>164.869995</td>\n",
       "      <td>164.869995</td>\n",
       "    </tr>\n",
       "  </tbody>\n",
       "</table>\n",
       "<p>10502 rows × 5 columns</p>\n",
       "</div>"
      ],
      "text/plain": [
       "                   Low        Open        High       Close  Adjusted Close\n",
       "Date                                                                      \n",
       "12-12-1980    0.128348    0.128348    0.128906    0.128348        0.100039\n",
       "15-12-1980    0.121652    0.122210    0.122210    0.121652        0.094820\n",
       "16-12-1980    0.112723    0.113281    0.113281    0.112723        0.087861\n",
       "17-12-1980    0.115513    0.115513    0.116071    0.115513        0.090035\n",
       "18-12-1980    0.118862    0.118862    0.119420    0.118862        0.092646\n",
       "...                ...         ...         ...         ...             ...\n",
       "02-08-2022  159.630005  160.100006  162.410004  160.009995      159.788040\n",
       "03-08-2022  160.750000  160.839996  166.589996  166.130005      165.899567\n",
       "04-08-2022  164.429993  166.009995  167.190002  165.809998      165.580002\n",
       "05-08-2022  163.000000  163.210007  165.850006  165.350006      165.350006\n",
       "08-08-2022  164.199997  166.369995  167.809998  164.869995      164.869995\n",
       "\n",
       "[10502 rows x 5 columns]"
      ]
     },
     "execution_count": 43,
     "metadata": {},
     "output_type": "execute_result"
    }
   ],
   "source": [
    "aapl.loc[:, aapl.columns!='Volume'].set_index('Date')"
   ]
  },
  {
   "cell_type": "markdown",
   "metadata": {},
   "source": [
    "Checking if data needs to be cleaned"
   ]
  },
  {
   "cell_type": "code",
   "execution_count": 47,
   "metadata": {},
   "outputs": [
    {
     "name": "stdout",
     "output_type": "stream",
     "text": [
      "<class 'pandas.core.frame.DataFrame'>\n",
      "Int64Index: 10502 entries, 0 to 10501\n",
      "Data columns (total 7 columns):\n",
      " #   Column          Non-Null Count  Dtype  \n",
      "---  ------          --------------  -----  \n",
      " 0   Date            10502 non-null  object \n",
      " 1   Low             10502 non-null  float64\n",
      " 2   Open            10502 non-null  float64\n",
      " 3   Volume          10502 non-null  int64  \n",
      " 4   High            10502 non-null  float64\n",
      " 5   Close           10502 non-null  float64\n",
      " 6   Adjusted Close  10502 non-null  float64\n",
      "dtypes: float64(5), int64(1), object(1)\n",
      "memory usage: 656.4+ KB\n"
     ]
    }
   ],
   "source": [
    "na_aapl.info()"
   ]
  },
  {
   "cell_type": "code",
   "execution_count": 58,
   "metadata": {},
   "outputs": [
    {
     "data": {
      "text/plain": [
       "0"
      ]
     },
     "execution_count": 58,
     "metadata": {},
     "output_type": "execute_result"
    }
   ],
   "source": [
    "aapl.isnull().any(axis = 1).sum() #No missing values"
   ]
  },
  {
   "cell_type": "code",
   "execution_count": 63,
   "metadata": {},
   "outputs": [
    {
     "name": "stdout",
     "output_type": "stream",
     "text": [
      "<bound method Series.sum of 0        False\n",
      "1        False\n",
      "2        False\n",
      "3        False\n",
      "4        False\n",
      "         ...  \n",
      "10497    False\n",
      "10498    False\n",
      "10499    False\n",
      "10500    False\n",
      "10501    False\n",
      "Length: 10502, dtype: bool>\n"
     ]
    }
   ],
   "source": [
    " print(aapl.duplicated().sum) #No duplicate rows"
   ]
  },
  {
   "cell_type": "markdown",
   "metadata": {},
   "source": [
    "If the open price goes up, the High and Low price for the day will likely go up too. Volume has little impact or correlation on a large timeline"
   ]
  },
  {
   "cell_type": "code",
   "execution_count": 65,
   "metadata": {},
   "outputs": [
    {
     "name": "stdout",
     "output_type": "stream",
     "text": [
      "                     Low      Open    Volume      High     Close  \\\n",
      "Low             1.000000  0.999926 -0.201644  0.999911  0.999929   \n",
      "Open            0.999926  1.000000 -0.200733  0.999943  0.999850   \n",
      "Volume         -0.201644 -0.200733  1.000000 -0.200172 -0.200922   \n",
      "High            0.999911  0.999943 -0.200172  1.000000  0.999926   \n",
      "Close           0.999929  0.999850 -0.200922  0.999926  1.000000   \n",
      "Adjusted Close  0.999587  0.999525 -0.203676  0.999630  0.999684   \n",
      "\n",
      "                Adjusted Close  \n",
      "Low                   0.999587  \n",
      "Open                  0.999525  \n",
      "Volume               -0.203676  \n",
      "High                  0.999630  \n",
      "Close                 0.999684  \n",
      "Adjusted Close        1.000000  \n"
     ]
    }
   ],
   "source": [
    "print(aapl.corr()) "
   ]
  },
  {
   "cell_type": "code",
   "execution_count": null,
   "metadata": {},
   "outputs": [],
   "source": []
  }
 ],
 "metadata": {
  "kernelspec": {
   "display_name": "Python 3",
   "language": "python",
   "name": "python3"
  },
  "language_info": {
   "codemirror_mode": {
    "name": "ipython",
    "version": 3
   },
   "file_extension": ".py",
   "mimetype": "text/x-python",
   "name": "python",
   "nbconvert_exporter": "python",
   "pygments_lexer": "ipython3",
   "version": "3.8.3"
  }
 },
 "nbformat": 4,
 "nbformat_minor": 4
}
